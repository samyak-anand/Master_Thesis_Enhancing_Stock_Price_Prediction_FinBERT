{
 "cells": [
  {
   "cell_type": "code",
   "execution_count": 2,
   "metadata": {},
   "outputs": [],
   "source": [
    "import pandas as pd\n",
    "import yfinance as yf\n",
    "from datetime import datetime, timedelta"
   ]
  },
  {
   "cell_type": "code",
   "execution_count": 3,
   "metadata": {},
   "outputs": [],
   "source": [
    "# Function to collect historical stock data\n",
    "def get_stock_data(tickers, start_date, end_date):\n",
    "    \"\"\"\n",
    "    Fetch historical stock data for multiple tickers from Yahoo Finance.\n",
    "\n",
    "    Args:\n",
    "        tickers (list): List of stock ticker symbols (e.g., ['AAPL', 'MSFT']).\n",
    "        start_date (str): Start date in 'YYYY-MM-DD' format.\n",
    "        end_date (str): End date in 'YYYY-MM-DD' format.\n",
    "\n",
    "    Returns:\n",
    "        pd.DataFrame: Stock price data for all tickers.\n",
    "    \"\"\"\n",
    "    stock_data = yf.download(tickers, start=start_date, end=end_date, group_by='ticker')\n",
    "    all_data = []\n",
    "    for ticker in tickers:\n",
    "        if ticker in stock_data.columns.levels[0]:\n",
    "            df = stock_data[ticker].copy()\n",
    "            df.reset_index(inplace=True)\n",
    "            df['Ticker'] = ticker\n",
    "            all_data.append(df)\n",
    "    return pd.concat(all_data, ignore_index=True)"
   ]
  },
  {
   "cell_type": "code",
   "execution_count": 4,
   "metadata": {},
   "outputs": [],
   "source": [
    "# Generating realistic news headlines for multiple stocks\n",
    "def get_news_data(tickers, start_date, end_date):\n",
    "    \"\"\"\n",
    "    Generate news headlines for multiple stocks.\n",
    "\n",
    "    Args:\n",
    "        tickers (list): List of stock ticker symbols.\n",
    "        start_date (str): Start date in 'YYYY-MM-DD' format.\n",
    "        end_date (str): End date in 'YYYY-MM-DD' format.\n",
    "\n",
    "    Returns:\n",
    "        pd.DataFrame: News data with dates, tickers, and headlines.\n",
    "    \"\"\"\n",
    "    dates = pd.date_range(start=start_date, end=end_date, freq='W')\n",
    "    all_news = []\n",
    "    headlines = [\n",
    "        \"launches new product\",\n",
    "        \"market declines\",\n",
    "        \"Strong earnings report boosts stock\",\n",
    "        \"Regulatory concerns affect sector\",\n",
    "        \"Market rallies on positive sentiment\"\n",
    "    ]\n",
    "    \n",
    "    for ticker in tickers:\n",
    "        news = pd.DataFrame({\n",
    "            'Date': dates,\n",
    "            'Ticker': ticker,\n",
    "            'Headline': [f\"{ticker} {headlines[i % len(headlines)]}\" for i in range(len(dates))]\n",
    "        })\n",
    "        all_news.append(news)\n",
    "\n",
    "    return pd.concat(all_news, ignore_index=True)"
   ]
  },
  {
   "cell_type": "code",
   "execution_count": 5,
   "metadata": {},
   "outputs": [],
   "source": [
    "def align_data(stock_data, news_data):\n",
    "    \"\"\"\n",
    "    Align stock price data with news data by merging based on the closest dates.\n",
    "\n",
    "    Args:\n",
    "        stock_data (pd.DataFrame): Historical stock price data.\n",
    "        news_data (pd.DataFrame): News headlines with dates.\n",
    "\n",
    "    Returns:\n",
    "        pd.DataFrame: Merged dataset of stock prices and news headlines.\n",
    "    \"\"\"\n",
    "    # Ensure Date columns are datetime\n",
    "    news_data['Date'] = pd.to_datetime(news_data['Date'])\n",
    "    stock_data['Date'] = pd.to_datetime(stock_data['Date'])\n",
    "\n",
    "    # Validate presence of Ticker column\n",
    "    if 'Ticker' not in stock_data.columns:\n",
    "        raise KeyError(\"'Ticker' column is missing from stock_data. Ensure the data is properly formatted.\")\n",
    "\n",
    "    # Sort both DataFrames by Ticker and Date\n",
    "    news_data = news_data.sort_values(['Ticker', 'Date']).reset_index(drop=True)\n",
    "    stock_data = stock_data.sort_values(['Ticker', 'Date']).reset_index(drop=True)\n",
    "\n",
    "    # Debugging: Print sorted DataFrames\n",
    "    print(\"News Data (Sorted):\")\n",
    "    print(news_data.head())\n",
    "    print(\"\\nStock Data (Sorted):\")\n",
    "    print(stock_data.head())\n",
    "\n",
    "    # Perform merge_asof\n",
    "    merged_data = pd.merge_asof(\n",
    "        news_data,\n",
    "        stock_data,\n",
    "        on='Date',\n",
    "        by='Ticker',\n",
    "        direction='backward'\n",
    "    )\n",
    "    return merged_data"
   ]
  },
  {
   "cell_type": "code",
   "execution_count": 7,
   "metadata": {},
   "outputs": [
    {
     "name": "stderr",
     "output_type": "stream",
     "text": [
      "[*********************100%***********************]  5 of 5 completed"
     ]
    },
    {
     "name": "stdout",
     "output_type": "stream",
     "text": [
      "News Data (Sorted):\n",
      "        Date Ticker                                   Headline\n",
      "0 2015-01-04   AAPL                  AAPL launches new product\n",
      "1 2015-01-11   AAPL                       AAPL market declines\n",
      "2 2015-01-18   AAPL   AAPL Strong earnings report boosts stock\n",
      "3 2015-01-25   AAPL     AAPL Regulatory concerns affect sector\n",
      "4 2015-02-01   AAPL  AAPL Market rallies on positive sentiment\n",
      "\n",
      "Stock Data (Sorted):\n",
      "Price       Date       Open       High        Low      Close     Volume Ticker\n",
      "0     2015-01-02  24.805914  24.817049  23.906229  24.347164  212818400   AAPL\n",
      "1     2015-01-05  24.115569  24.195739  23.474210  23.661272  257142000   AAPL\n",
      "2     2015-01-06  23.725858  23.924056  23.300511  23.663504  263188400   AAPL\n",
      "3     2015-01-07  23.872831  24.095525  23.761484  23.995314  160423600   AAPL\n",
      "4     2015-01-08  24.324895  24.975162  24.206866  24.917261  237458000   AAPL\n",
      "Error: left keys must be sorted\n"
     ]
    },
    {
     "name": "stderr",
     "output_type": "stream",
     "text": [
      "\n"
     ]
    }
   ],
   "source": [
    "if __name__ == \"__main__\":\n",
    "    tickers = ['AAPL', 'MSFT', 'GOOGL', 'AMZN', 'TSLA']  # Example tickers\n",
    "    start_date = '2015-01-01'\n",
    "    end_date = '2023-01-01'\n",
    "\n",
    "    # Fetch stock data for multiple tickers\n",
    "    stock_data = get_stock_data(tickers, start_date, end_date)\n",
    "\n",
    "    # Generate news data for multiple tickers\n",
    "    news_data = get_news_data(tickers, start_date, end_date)\n",
    "\n",
    "    # Align the datasets\n",
    "    try:\n",
    "        merged_data = align_data(stock_data, news_data)\n",
    "        print(merged_data.head())\n",
    "        merged_data.to_csv(\"stock_news_data_multi.csv\", index=False)\n",
    "    except Exception as e:\n",
    "        print(f\"Error: {e}\")"
   ]
  },
  {
   "cell_type": "code",
   "execution_count": null,
   "metadata": {},
   "outputs": [],
   "source": []
  }
 ],
 "metadata": {
  "kernelspec": {
   "display_name": ".venv",
   "language": "python",
   "name": "python3"
  },
  "language_info": {
   "codemirror_mode": {
    "name": "ipython",
    "version": 3
   },
   "file_extension": ".py",
   "mimetype": "text/x-python",
   "name": "python",
   "nbconvert_exporter": "python",
   "pygments_lexer": "ipython3",
   "version": "3.12.3"
  }
 },
 "nbformat": 4,
 "nbformat_minor": 2
}
